{
 "cells": [
  {
   "cell_type": "code",
   "execution_count": 1,
   "metadata": {
    "datalore": {
     "hide_input_from_viewers": true,
     "hide_output_from_viewers": true,
     "node_id": "RRmRCWSBH5Xyt8wDvqIGnX",
     "type": "CODE"
    }
   },
   "outputs": [
    {
     "name": "stdout",
     "output_type": "stream",
     "text": [
      "Requirement already satisfied: pip in /opt/python/envs/default/lib/python3.8/site-packages (23.1.2)\r\n",
      "Collecting pip\r\n",
      "  Downloading pip-23.2.1-py3-none-any.whl (2.1 MB)\r\n",
      "\u001b[?25l     \u001b[90m━━━━━━━━━━━━━━━━━━━━━━━━━━━━━━━━━━━━━━━━\u001b[0m \u001b[32m0.0/2.1 MB\u001b[0m \u001b[31m?\u001b[0m eta \u001b[36m-:--:--\u001b[0m\r\u001b[2K     \u001b[91m━━━━━━━━━━━━━━━━━━━━━━━━━━━━━━━━\u001b[0m\u001b[90m╺\u001b[0m\u001b[90m━━━━━━━\u001b[0m \u001b[32m1.7/2.1 MB\u001b[0m \u001b[31m49.0 MB/s\u001b[0m eta \u001b[36m0:00:01\u001b[0m\r\u001b[2K     \u001b[90m━━━━━━━━━━━━━━━━━━━━━━━━━━━━━━━━━━━━━━━━\u001b[0m \u001b[32m2.1/2.1 MB\u001b[0m \u001b[31m38.2 MB/s\u001b[0m eta \u001b[36m0:00:00\u001b[0m\r\n",
      "\u001b[?25hInstalling collected packages: pip\r\n",
      "  Attempting uninstall: pip\r\n",
      "    Found existing installation: pip 23.1.2\r\n",
      "    Uninstalling pip-23.1.2:\r\n",
      "      Successfully uninstalled pip-23.1.2\r\n",
      "Successfully installed pip-23.2.1\r\n",
      "Requirement already satisfied: numpy in /opt/python/envs/default/lib/python3.8/site-packages (1.24.3)\r\n",
      "Requirement already satisfied: pandas in /opt/python/envs/default/lib/python3.8/site-packages (1.5.3)\r\n",
      "Requirement already satisfied: python-dateutil>=2.8.1 in /opt/python/envs/default/lib/python3.8/site-packages (from pandas) (2.8.2)\r\n",
      "Requirement already satisfied: pytz>=2020.1 in /opt/python/envs/default/lib/python3.8/site-packages (from pandas) (2023.3)\r\n",
      "Requirement already satisfied: six>=1.5 in /opt/python/envs/default/lib/python3.8/site-packages (from python-dateutil>=2.8.1->pandas) (1.16.0)\r\n",
      "Requirement already satisfied: torch in /opt/python/envs/default/lib/python3.8/site-packages (2.0.1+cu117)\r\n",
      "Requirement already satisfied: torchvision in /opt/python/envs/default/lib/python3.8/site-packages (0.15.2+rocm5.4.2)\r\n",
      "Requirement already satisfied: filelock in /opt/python/envs/default/lib/python3.8/site-packages (from torch) (3.12.2)\r\n",
      "Requirement already satisfied: typing-extensions in /opt/python/envs/default/lib/python3.8/site-packages (from torch) (4.7.1)\r\n",
      "Requirement already satisfied: sympy in /opt/python/envs/default/lib/python3.8/site-packages (from torch) (1.12)\r\n",
      "Requirement already satisfied: networkx in /opt/python/envs/default/lib/python3.8/site-packages (from torch) (3.1)\r\n",
      "Requirement already satisfied: jinja2 in /opt/python/envs/default/lib/python3.8/site-packages (from torch) (3.1.2)\r\n",
      "Requirement already satisfied: triton==2.0.0 in /opt/python/envs/default/lib/python3.8/site-packages (from torch) (2.0.0)\r\n",
      "Requirement already satisfied: cmake in /opt/python/envs/default/lib/python3.8/site-packages (from triton==2.0.0->torch) (3.27.2)\r\n",
      "Requirement already satisfied: lit in /opt/python/envs/default/lib/python3.8/site-packages (from triton==2.0.0->torch) (16.0.6)\r\n",
      "Requirement already satisfied: numpy in /opt/python/envs/default/lib/python3.8/site-packages (from torchvision) (1.24.3)\r\n",
      "Requirement already satisfied: requests in /opt/python/envs/default/lib/python3.8/site-packages (from torchvision) (2.30.0)\r\n",
      "Requirement already satisfied: pillow!=8.3.*,>=5.3.0 in /opt/python/envs/default/lib/python3.8/site-packages (from torchvision) (10.0.0)\r\n",
      "Requirement already satisfied: MarkupSafe>=2.0 in /opt/python/envs/default/lib/python3.8/site-packages (from jinja2->torch) (2.1.3)\r\n",
      "Requirement already satisfied: charset-normalizer<4,>=2 in /opt/python/envs/default/lib/python3.8/site-packages (from requests->torchvision) (3.2.0)\r\n",
      "Requirement already satisfied: idna<4,>=2.5 in /opt/python/envs/default/lib/python3.8/site-packages (from requests->torchvision) (3.4)\r\n",
      "Requirement already satisfied: urllib3<3,>=1.21.1 in /opt/python/envs/default/lib/python3.8/site-packages (from requests->torchvision) (1.26.16)\r\n",
      "Requirement already satisfied: certifi>=2017.4.17 in /opt/python/envs/default/lib/python3.8/site-packages (from requests->torchvision) (2023.7.22)\r\n",
      "Requirement already satisfied: mpmath>=0.19 in /opt/python/envs/default/lib/python3.8/site-packages (from sympy->torch) (1.3.0)\r\n"
     ]
    }
   ],
   "source": [
    "%pip install --upgrade pip\n",
    "%pip install numpy pandas\n",
    "%pip install torch torchvision"
   ]
  },
  {
   "attachments": {},
   "cell_type": "markdown",
   "metadata": {
    "datalore": {
     "hide_input_from_viewers": true,
     "hide_output_from_viewers": true,
     "node_id": "KKDUFA0aTMb4QsUrrnqzlA",
     "type": "MD"
    }
   },
   "source": [
    "# torch.autograd 란?\n",
    "\n",
    "'torch.autograd'는 신경망 학습을 지원하는 `PyTorch`의 자동 미분 엔진이다.\n",
    "\n",
    "## 배경(Background)\n",
    "\n",
    "신경망(NN, Neural Network)은 입력 데이터에 대해 실행되는 중첩(nested)된 함수들의 모음(collection)이다. 이 함수들은 `PyTorch`에서 Tensor로 저장되는, 가중치(weight)와 편향(bias)로 구성된 매개변수로 정의된다.\n",
    "\n",
    "## 신경망을 학습하는 2단계\n",
    "\n",
    "### 1. 순전파(Forward Propagation)\n",
    "\n",
    "순전파 단계에서, 신경망은 정답을 맞추기 위해 최선의 추측(best guess)을 한다.\n",
    "이렇게 추측을 하기 위해서 입력 데이터를 각 함수들에서 실행한다.\n",
    "\n",
    "### 2. 역전파(Backward Propagation)\n",
    "\n",
    "역전파 단계에서, 신경망은 추측한 값에서 발생한 오류(error)에 비례하여(proportionate) 매개변수들을 적절히 조절(adjust)한다.\n",
    "출력(output)으로부터 역방향으로 이동하면서 오류에 대한 함수들의 매개변수들의 미분값(gradient)을 수집하고, 경사하강법(gradient descent)을 사용하여 매개변수들을 최적화 한다."
   ]
  },
  {
   "cell_type": "code",
   "execution_count": 2,
   "metadata": {
    "datalore": {
     "hide_input_from_viewers": true,
     "hide_output_from_viewers": true,
     "node_id": "twCBeXmvpDnKWQBBdaQMvi",
     "type": "CODE"
    }
   },
   "outputs": [],
   "source": [
    "import torch\n",
    "from torchvision.models import resnet18, ResNet18_Weights"
   ]
  },
  {
   "attachments": {},
   "cell_type": "markdown",
   "metadata": {
    "datalore": {
     "hide_input_from_viewers": true,
     "hide_output_from_viewers": true,
     "node_id": "SkUuEkE0BArykU1V0F8UvN",
     "type": "MD"
    }
   },
   "source": [
    "'torch vision'에서 미리 학습된 'resnet18' 모델을 불러온다.\n",
    "\n",
    "3채널짜리 높이와 넓이가 64인 이미지 하나를 표현하는 무작위 데이터 텐서를 생성하고, 이에 상응하는 'label'을 무작위 값으로 초기화 한다. 미리 학습된 모델의 'label'은 (1, 1_000)의 모양(shape)를 갖는다."
   ]
  },
  {
   "cell_type": "code",
   "execution_count": 3,
   "metadata": {
    "datalore": {
     "hide_input_from_viewers": true,
     "hide_output_from_viewers": true,
     "node_id": "LQjZTbfaQvhrG70FGJBabQ",
     "type": "CODE"
    }
   },
   "outputs": [
    {
     "name": "stderr",
     "output_type": "stream",
     "text": [
      "Downloading: \"https://download.pytorch.org/models/resnet18-f37072fd.pth\" to /home/datalore/.cache/torch/hub/checkpoints/resnet18-f37072fd.pth\n",
      "\r  0%|          | 0.00/44.7M [00:00<?, ?B/s]\r  3%|▎         | 1.31M/44.7M [00:00<00:04, 11.3MB/s]\r  5%|▌         | 2.40M/44.7M [00:00<00:04, 10.7MB/s]\r 12%|█▏        | 5.14M/44.7M [00:00<00:02, 18.2MB/s]\r 18%|█▊        | 7.88M/44.7M [00:00<00:01, 22.1MB/s]\r 22%|██▏       | 10.0M/44.7M [00:00<00:01, 21.2MB/s]\r 27%|██▋       | 12.1M/44.7M [00:00<00:01, 20.2MB/s]\r 33%|███▎      | 14.8M/44.7M [00:00<00:01, 22.6MB/s]\r 41%|████      | 18.1M/44.7M [00:00<00:01, 25.0MB/s]\r 46%|████▌     | 20.6M/44.7M [00:00<00:00, 25.5MB/s]\r 52%|█████▏    | 23.1M/44.7M [00:01<00:00, 24.4MB/s]\r 57%|█████▋    | 25.4M/44.7M [00:01<00:00, 21.8MB/s]\r 62%|██████▏   | 27.6M/44.7M [00:01<00:01, 16.4MB/s]\r 70%|███████   | 31.3M/44.7M [00:01<00:00, 21.4MB/s]\r 79%|███████▊  | 35.1M/44.7M [00:01<00:00, 25.8MB/s]\r 90%|█████████ | 40.3M/44.7M [00:01<00:00, 32.7MB/s]\r100%|██████████| 44.7M/44.7M [00:01<00:00, 25.5MB/s]\n"
     ]
    }
   ],
   "source": [
    "model = resnet18(\n",
    "    weights=ResNet18_Weights.DEFAULT,    \n",
    ")\n",
    "\n",
    "data = torch.rand(1, 3, 64, 64)\n",
    "labels = torch.rand(1, 1_000)"
   ]
  },
  {
   "cell_type": "code",
   "execution_count": 4,
   "metadata": {
    "datalore": {
     "hide_input_from_viewers": true,
     "hide_output_from_viewers": true,
     "node_id": "jvhben3pYjsxNlPhZeK9Ec",
     "type": "CODE"
    }
   },
   "outputs": [],
   "source": [
    "# 순전파 단계\n",
    "# 입력(input) 데이터를 모델의 각 층(layer)에 통과시켜 예측값(prediction)을 생성한다.\n",
    "prediction = model(data)"
   ]
  },
  {
   "cell_type": "code",
   "execution_count": 5,
   "metadata": {
    "datalore": {
     "hide_input_from_viewers": true,
     "hide_output_from_viewers": true,
     "node_id": "PeyIyzDnX5LcsWN2yOoAa2",
     "type": "CODE"
    }
   },
   "outputs": [],
   "source": [
    "# 역전파 단계\n",
    "# 모델의 예측값과 그에 해당하는 label을 사용하여 오차를 계산한다.\n",
    "loss = (prediction - labels).sum()\n",
    "loss.backward()"
   ]
  },
  {
   "cell_type": "code",
   "execution_count": 6,
   "metadata": {
    "datalore": {
     "hide_input_from_viewers": true,
     "hide_output_from_viewers": true,
     "node_id": "5PJGkMpF48HnyPqrIUqiUh",
     "type": "CODE"
    }
   },
   "outputs": [],
   "source": [
    "# 옵티마이저(optimizer)를 불러온다.\n",
    "# 학습율(learning rate) 0.1과 모멘텀(momentum) 0.9를 갖는 SGD 이다.\n",
    "# 옵티마이저에 모델의 모든 매개변수를 등록한다.\n",
    "optim = torch.optim.SGD(\n",
    "    model.parameters(),\n",
    "    lr=1e-2,\n",
    "    momentum=0.9\n",
    ")"
   ]
  },
  {
   "cell_type": "code",
   "execution_count": 7,
   "metadata": {
    "datalore": {
     "hide_input_from_viewers": true,
     "hide_output_from_viewers": true,
     "node_id": "yB5F39ce4I9LEEbwSoOTkZ",
     "type": "CODE"
    }
   },
   "outputs": [],
   "source": [
    "# step()을 호출하여 경사하강법(gradient descent)을 시작한다.\n",
    "# .grad에 저장된 변화도에 따라 각 매개변수를 조정(adjust)한다.\n",
    "optim.step()"
   ]
  }
 ],
 "metadata": {
  "datalore": {
   "base_environment": "default",
   "computation_mode": "REACTIVE",
   "package_manager": "pip",
   "packages": [],
   "report_row_ids": [],
   "version": 3
  },
  "kernelspec": {
   "display_name": "Python",
   "language": "python",
   "name": "python"
  }
 },
 "nbformat": 4,
 "nbformat_minor": 4
}
