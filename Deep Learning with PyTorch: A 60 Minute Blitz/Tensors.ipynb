{
 "cells": [
  {
   "cell_type": "code",
   "execution_count": 1,
   "metadata": {
    "datalore": {
     "hide_input_from_viewers": true,
     "hide_output_from_viewers": true,
     "node_id": "4cUJkx5XUAlAiTEE1utPoI",
     "type": "CODE"
    }
   },
   "outputs": [
    {
     "name": "stdout",
     "output_type": "stream",
     "text": [
      "Requirement already satisfied: pip in /opt/python/envs/default/lib/python3.8/site-packages (23.2.1)\r\n",
      "Requirement already satisfied: numpy in /opt/python/envs/default/lib/python3.8/site-packages (1.24.3)\r\n",
      "Requirement already satisfied: pandas in /opt/python/envs/default/lib/python3.8/site-packages (1.5.3)\r\n",
      "Requirement already satisfied: python-dateutil>=2.8.1 in /opt/python/envs/default/lib/python3.8/site-packages (from pandas) (2.8.2)\r\n",
      "Requirement already satisfied: pytz>=2020.1 in /opt/python/envs/default/lib/python3.8/site-packages (from pandas) (2023.3)\r\n",
      "Requirement already satisfied: six>=1.5 in /opt/python/envs/default/lib/python3.8/site-packages (from python-dateutil>=2.8.1->pandas) (1.16.0)\r\n",
      "Requirement already satisfied: torch in /opt/python/envs/default/lib/python3.8/site-packages (2.0.1+cu117)\r\n",
      "Requirement already satisfied: torchvision in /opt/python/envs/default/lib/python3.8/site-packages (0.15.2+rocm5.4.2)\r\n",
      "Requirement already satisfied: filelock in /opt/python/envs/default/lib/python3.8/site-packages (from torch) (3.12.2)\r\n",
      "Requirement already satisfied: typing-extensions in /opt/python/envs/default/lib/python3.8/site-packages (from torch) (4.7.1)\r\n",
      "Requirement already satisfied: sympy in /opt/python/envs/default/lib/python3.8/site-packages (from torch) (1.12)\r\n",
      "Requirement already satisfied: networkx in /opt/python/envs/default/lib/python3.8/site-packages (from torch) (3.1)\r\n",
      "Requirement already satisfied: jinja2 in /opt/python/envs/default/lib/python3.8/site-packages (from torch) (3.1.2)\r\n",
      "Requirement already satisfied: triton==2.0.0 in /opt/python/envs/default/lib/python3.8/site-packages (from torch) (2.0.0)\r\n",
      "Requirement already satisfied: cmake in /opt/python/envs/default/lib/python3.8/site-packages (from triton==2.0.0->torch) (3.27.2)\r\n",
      "Requirement already satisfied: lit in /opt/python/envs/default/lib/python3.8/site-packages (from triton==2.0.0->torch) (16.0.6)\r\n",
      "Requirement already satisfied: numpy in /opt/python/envs/default/lib/python3.8/site-packages (from torchvision) (1.24.3)\r\n",
      "Requirement already satisfied: requests in /opt/python/envs/default/lib/python3.8/site-packages (from torchvision) (2.30.0)\r\n",
      "Requirement already satisfied: pillow!=8.3.*,>=5.3.0 in /opt/python/envs/default/lib/python3.8/site-packages (from torchvision) (10.0.0)\r\n",
      "Requirement already satisfied: MarkupSafe>=2.0 in /opt/python/envs/default/lib/python3.8/site-packages (from jinja2->torch) (2.1.3)\r\n",
      "Requirement already satisfied: charset-normalizer<4,>=2 in /opt/python/envs/default/lib/python3.8/site-packages (from requests->torchvision) (3.2.0)\r\n",
      "Requirement already satisfied: idna<4,>=2.5 in /opt/python/envs/default/lib/python3.8/site-packages (from requests->torchvision) (3.4)\r\n",
      "Requirement already satisfied: urllib3<3,>=1.21.1 in /opt/python/envs/default/lib/python3.8/site-packages (from requests->torchvision) (1.26.16)\r\n",
      "Requirement already satisfied: certifi>=2017.4.17 in /opt/python/envs/default/lib/python3.8/site-packages (from requests->torchvision) (2023.7.22)\r\n",
      "Requirement already satisfied: mpmath>=0.19 in /opt/python/envs/default/lib/python3.8/site-packages (from sympy->torch) (1.3.0)\r\n"
     ]
    }
   ],
   "source": [
    "%pip install --upgrade pip\n",
    "%pip install numpy pandas\n",
    "%pip install torch torchvision"
   ]
  },
  {
   "attachments": {},
   "cell_type": "markdown",
   "metadata": {
    "datalore": {
     "hide_input_from_viewers": true,
     "hide_output_from_viewers": true,
     "node_id": "ymvtqRNGpMq75y7eOPEhVq",
     "type": "MD"
    }
   },
   "source": [
    "# Tensor\n",
    "\n",
    "텐서(tensor)는 배열(array)이나 행렬(matrix)과 매우 유사한 특수한 자료구조이다. `Pytorch`에서는 텐서를 사용하여 모델의 입려과 출력뿐만 아니라 모델의 매개변수를 부호화(encode) 한다.\n",
    "\n",
    "GPU나 다른 연산 가속을 위한 특수한 하드웨어에서 실행할 수 있다는 점을 제외하면, 텐서는 Numpy의 ndarray와 매우 유사하다."
   ]
  },
  {
   "cell_type": "code",
   "execution_count": 2,
   "metadata": {
    "datalore": {
     "hide_input_from_viewers": true,
     "hide_output_from_viewers": true,
     "node_id": "YWy1QLnXbN38gN4SbH1fMp",
     "type": "CODE"
    }
   },
   "outputs": [],
   "source": [
    "import torch\n",
    "import numpy as np"
   ]
  },
  {
   "attachments": {},
   "cell_type": "markdown",
   "metadata": {
    "datalore": {
     "hide_input_from_viewers": true,
     "hide_output_from_viewers": true,
     "node_id": "MjtAxOJMqD5z00AuNK3IFG",
     "type": "MD"
    }
   },
   "source": [
    "## 텐서 초기화하기\n",
    "\n",
    "### 1. 데이터로부터 직접(directly) 생성하기\n",
    "\n",
    "데이터로부터 직접 텐서를 생성할 수 있으며, 데이터의 자료형(datatype)은 자동으로 유추한다.\n",
    "\n",
    "### 2. Numpy 배열로부터 생성하기\n",
    "\n",
    "텐서는 Numpy 배열로 생성할 수 있으며, 그 반대도 가능하다.\n",
    "\n",
    "### 3. 다른 텐서로부터 생성하기\n",
    "\n",
    "명시적으로 재정의(override)하지 않는다면, 인자로 주어진 텐서의 속성(모양(shape), 자료형(datatype))을 유지한다.\n",
    "\n",
    "### 4. 무작위(random) 또는 상수(constant) 값을 사용하기\n",
    "\n",
    "'shape'는 텐서의 차원(dimension)을 나타내는 튜플(tuple)로 출력 텐서의 차원을 결정한다."
   ]
  },
  {
   "cell_type": "code",
   "execution_count": 3,
   "metadata": {
    "datalore": {
     "hide_input_from_viewers": true,
     "hide_output_from_viewers": true,
     "node_id": "Q7HmZBy6fxLqk2bUgrUSxe",
     "type": "CODE"
    }
   },
   "outputs": [],
   "source": [
    "# 1. 데이터로부터 직접 생성하기\n",
    "x_data = torch.tensor(\n",
    "    [[1, 2], [3, 4]]\n",
    ")"
   ]
  },
  {
   "cell_type": "code",
   "execution_count": 4,
   "metadata": {
    "datalore": {
     "hide_input_from_viewers": true,
     "hide_output_from_viewers": true,
     "node_id": "c9XaOXomHhQj4vkoFqPjhX",
     "type": "CODE"
    }
   },
   "outputs": [],
   "source": [
    "# 2. Numpy 배열로부터 생성하기\n",
    "x_np = torch.from_numpy(\n",
    "    np.array([[1, 2], [3, 4]])\n",
    ")"
   ]
  },
  {
   "cell_type": "code",
   "execution_count": 5,
   "metadata": {
    "datalore": {
     "hide_input_from_viewers": true,
     "hide_output_from_viewers": true,
     "node_id": "M3CHJOYDOSYfOwCH6k75hy",
     "type": "CODE"
    }
   },
   "outputs": [
    {
     "name": "stdout",
     "output_type": "stream",
     "text": [
      "Ones Tensor:\n",
      "tensor([[1, 1],\n",
      "        [1, 1]])\n",
      "\n",
      "Randon Tensor:\n",
      "tensor([[0.7852, 0.5010],\n",
      "        [0.8921, 0.5688]])\n"
     ]
    }
   ],
   "source": [
    "# 3. 다른 텐서로부터 생성하기\n",
    "print(f\"Ones Tensor:\")\n",
    "print(torch.ones_like(x_data))\n",
    "print()\n",
    "\n",
    "print(f\"Randon Tensor:\")\n",
    "print(torch.rand_like(x_data, dtype=torch.float))"
   ]
  },
  {
   "cell_type": "code",
   "execution_count": 6,
   "metadata": {
    "datalore": {
     "hide_input_from_viewers": true,
     "hide_output_from_viewers": true,
     "node_id": "nEPJOwVcRRe4UtXdhElnqV",
     "type": "CODE"
    }
   },
   "outputs": [
    {
     "name": "stdout",
     "output_type": "stream",
     "text": [
      "Random Tensor:\n",
      "tensor([[0.3325, 0.1142, 0.1078],\n",
      "        [0.7744, 0.8177, 0.3097]])\n",
      "\n",
      "Ones Tensor:\n",
      "tensor([[1., 1., 1.],\n",
      "        [1., 1., 1.]])\n",
      "\n",
      "Zeros Tensor:\n",
      "tensor([[0., 0., 0.],\n",
      "        [0., 0., 0.]])\n"
     ]
    }
   ],
   "source": [
    "# 4. 무작위(random) 또는 상수(constant) 값을 사용하기\n",
    "shape = (2, 3,)\n",
    "\n",
    "print(f\"Random Tensor:\")\n",
    "print(torch.rand(shape))\n",
    "print()\n",
    "\n",
    "print(f\"Ones Tensor:\")\n",
    "print(torch.ones(shape))\n",
    "print()\n",
    "\n",
    "print(f\"Zeros Tensor:\")\n",
    "print(torch.zeros(shape))"
   ]
  },
  {
   "attachments": {},
   "cell_type": "markdown",
   "metadata": {
    "datalore": {
     "hide_input_from_viewers": true,
     "hide_output_from_viewers": true,
     "node_id": "MhZGlbS5FsdUaA6XeVnQFC",
     "type": "MD"
    }
   },
   "source": [
    "## 텐서의 속성(Attribute)\n",
    "\n",
    "텐서의 속성은 텐서의 모양(shape), 자료형(datatype) 및 어느 장치에 저장되는지를 나타낸다."
   ]
  },
  {
   "cell_type": "code",
   "execution_count": 7,
   "metadata": {
    "datalore": {
     "hide_input_from_viewers": true,
     "hide_output_from_viewers": true,
     "node_id": "3W6aogPITYv0NGDMJ322dp",
     "type": "CODE"
    }
   },
   "outputs": [
    {
     "name": "stdout",
     "output_type": "stream",
     "text": [
      "Shape of tensor: torch.Size([3, 4])\n",
      "Datatype of tensor: torch.float32\n",
      "Device tensor is stored on: cpu\n"
     ]
    }
   ],
   "source": [
    "tensor = torch.rand(3, 4)\n",
    "\n",
    "print(f\"Shape of tensor: {tensor.shape}\")\n",
    "print(f\"Datatype of tensor: {tensor.dtype}\")\n",
    "print(f\"Device tensor is stored on: {tensor.device}\")"
   ]
  },
  {
   "attachments": {},
   "cell_type": "markdown",
   "metadata": {
    "datalore": {
     "hide_input_from_viewers": true,
     "hide_output_from_viewers": true,
     "node_id": "9bJ0yVUw1NpAk9uGKPIWP7",
     "type": "MD"
    }
   },
   "source": [
    "## 텐서의 연산(Operation)\n",
    "\n",
    "전치(transposing), 인덱싱(indexing), 슬라이싱(slicing), 수학 계산, 선형 대수, 임의 샘플링(random sampling) 등, 100가지 이상의 텐서 연산들을 실행할 수 있다.\n",
    "\n",
    "각 연산들은 GPU에서 실행할 수 있다."
   ]
  },
  {
   "cell_type": "code",
   "execution_count": 8,
   "metadata": {
    "datalore": {
     "hide_input_from_viewers": true,
     "hide_output_from_viewers": true,
     "node_id": "ZtIQCQWtFBxkMljX5xSb6l",
     "type": "CODE"
    }
   },
   "outputs": [],
   "source": [
    "if torch.cuda.is_available():\n",
    "    tensor = tensor.to('cuda')\n",
    "    print(f\"Device tensor is stored on: {tensor.device}\")"
   ]
  },
  {
   "cell_type": "code",
   "execution_count": 9,
   "metadata": {
    "datalore": {
     "hide_input_from_viewers": true,
     "hide_output_from_viewers": true,
     "node_id": "Qcg87Y8FdhBetx4Wc1b8AJ",
     "type": "CODE"
    }
   },
   "outputs": [
    {
     "name": "stdout",
     "output_type": "stream",
     "text": [
      "tensor([[1., 0., 1., 1.],\n",
      "        [1., 0., 1., 1.],\n",
      "        [1., 0., 1., 1.],\n",
      "        [1., 0., 1., 1.]])\n"
     ]
    }
   ],
   "source": [
    "# Numpy식의 표준 인덱싱과 슬라이싱\n",
    "tensor = torch.ones(4, 4)\n",
    "tensor[:, 1] = 0\n",
    "print(tensor)"
   ]
  },
  {
   "cell_type": "code",
   "execution_count": 10,
   "metadata": {
    "datalore": {
     "hide_input_from_viewers": true,
     "hide_output_from_viewers": true,
     "node_id": "vCZIWlhSWD5mrbsT2eW51i",
     "type": "CODE"
    }
   },
   "outputs": [
    {
     "name": "stdout",
     "output_type": "stream",
     "text": [
      "tensor([[1., 0., 1., 1., 1., 0., 1., 1., 1., 0., 1., 1.],\n",
      "        [1., 0., 1., 1., 1., 0., 1., 1., 1., 0., 1., 1.],\n",
      "        [1., 0., 1., 1., 1., 0., 1., 1., 1., 0., 1., 1.],\n",
      "        [1., 0., 1., 1., 1., 0., 1., 1., 1., 0., 1., 1.]])\n"
     ]
    }
   ],
   "source": [
    "# 텐서 합치기\n",
    "# torch.cat()을 사용하여 주어진 차원에 따라 일련의 텐서를 연결할 수 있다.\n",
    "print(\n",
    "    torch.cat(\n",
    "        [tensor, tensor, tensor],\n",
    "        dim=1\n",
    "    )\n",
    ")"
   ]
  },
  {
   "cell_type": "code",
   "execution_count": 11,
   "metadata": {
    "datalore": {
     "hide_input_from_viewers": true,
     "hide_output_from_viewers": true,
     "node_id": "SwmfoQtISx6UfZWPXa7xx3",
     "type": "CODE"
    }
   },
   "outputs": [
    {
     "name": "stdout",
     "output_type": "stream",
     "text": [
      "tensor.mul(tensor):\n",
      "tensor([[1., 0., 1., 1.],\n",
      "        [1., 0., 1., 1.],\n",
      "        [1., 0., 1., 1.],\n",
      "        [1., 0., 1., 1.]])\n",
      "\n",
      "tensor * tensor:\n",
      "tensor([[1., 0., 1., 1.],\n",
      "        [1., 0., 1., 1.],\n",
      "        [1., 0., 1., 1.],\n",
      "        [1., 0., 1., 1.]])\n"
     ]
    }
   ],
   "source": [
    "# 텐서 곱하기 (요소별 곱, element-wise product)\n",
    "print(\"tensor.mul(tensor):\")\n",
    "print(tensor.mul(tensor))\n",
    "print()\n",
    "\n",
    "print(\"tensor * tensor:\")\n",
    "print(tensor * tensor)"
   ]
  },
  {
   "cell_type": "code",
   "execution_count": 12,
   "metadata": {
    "datalore": {
     "hide_input_from_viewers": true,
     "hide_output_from_viewers": true,
     "node_id": "g2LGRxlHk0U9I5eXCc3gNm",
     "type": "CODE"
    }
   },
   "outputs": [
    {
     "name": "stdout",
     "output_type": "stream",
     "text": [
      "tensor.matmul(tensor.T):\n",
      "tensor([[3., 3., 3., 3.],\n",
      "        [3., 3., 3., 3.],\n",
      "        [3., 3., 3., 3.],\n",
      "        [3., 3., 3., 3.]])\n",
      "\n",
      "tensor @ tensor.T:\n",
      "tensor([[3., 3., 3., 3.],\n",
      "        [3., 3., 3., 3.],\n",
      "        [3., 3., 3., 3.],\n",
      "        [3., 3., 3., 3.]])\n"
     ]
    }
   ],
   "source": [
    "# 텐서 곱하기 (행렬 곱, matrix multiplication)\n",
    "print(\"tensor.matmul(tensor.T):\")\n",
    "print(tensor.matmul(tensor.T))\n",
    "print()\n",
    "\n",
    "print(\"tensor @ tensor.T:\")\n",
    "print(tensor @ tensor.T)"
   ]
  },
  {
   "cell_type": "code",
   "execution_count": 13,
   "metadata": {
    "datalore": {
     "hide_input_from_viewers": true,
     "hide_output_from_viewers": true,
     "node_id": "PcScgEvB4KXym9w9B3sGd2",
     "type": "CODE"
    }
   },
   "outputs": [
    {
     "name": "stdout",
     "output_type": "stream",
     "text": [
      "tensor([[1., 0., 1., 1.],\n",
      "        [1., 0., 1., 1.],\n",
      "        [1., 0., 1., 1.],\n",
      "        [1., 0., 1., 1.]])\n",
      "\n",
      "tensor([[6., 5., 6., 6.],\n",
      "        [6., 5., 6., 6.],\n",
      "        [6., 5., 6., 6.],\n",
      "        [6., 5., 6., 6.]])\n"
     ]
    }
   ],
   "source": [
    "# 바꿔치기 연산 (권장하지 않음)\n",
    "print(tensor)\n",
    "print()\n",
    "\n",
    "tensor.add_(5)\n",
    "print(tensor)"
   ]
  },
  {
   "attachments": {},
   "cell_type": "markdown",
   "metadata": {
    "datalore": {
     "hide_input_from_viewers": true,
     "hide_output_from_viewers": true,
     "node_id": "Rjl3d7x7wjDBGLJVHLb3AP",
     "type": "MD"
    }
   },
   "source": [
    "## Numpy 변환(Bride)\n",
    "\n",
    "CPU 상의 텐서와 Numpy 배열은 메모리 공산을 공유하기 때문에, 하나를 변경하면 다른 하나도 변경된다."
   ]
  },
  {
   "cell_type": "code",
   "execution_count": 14,
   "metadata": {
    "datalore": {
     "hide_input_from_viewers": true,
     "hide_output_from_viewers": true,
     "node_id": "ZzODYnYuKIjjCKmCQC9qDB",
     "type": "CODE"
    }
   },
   "outputs": [
    {
     "name": "stdout",
     "output_type": "stream",
     "text": [
      "t: tensor([1., 1., 1., 1., 1.])\n",
      "n: [1. 1. 1. 1. 1.]\n"
     ]
    }
   ],
   "source": [
    "t = torch.ones(5)\n",
    "print(f\"t: {t}\")\n",
    "\n",
    "n = t.numpy()\n",
    "print(f\"n: {n}\")"
   ]
  },
  {
   "cell_type": "code",
   "execution_count": 15,
   "metadata": {
    "datalore": {
     "hide_input_from_viewers": true,
     "hide_output_from_viewers": true,
     "node_id": "9eSXZAHVlbnC5dSMq235MD",
     "type": "CODE"
    }
   },
   "outputs": [
    {
     "name": "stdout",
     "output_type": "stream",
     "text": [
      "t: tensor([2., 2., 2., 2., 2.], dtype=torch.float64)\n",
      "n: [2. 2. 2. 2. 2.]\n"
     ]
    }
   ],
   "source": [
    "n = np.ones(5)\n",
    "t = torch.from_numpy(n)\n",
    "\n",
    "np.add(n, 1, out=n)\n",
    "print(f\"t: {t}\")\n",
    "print(f\"n: {n}\")"
   ]
  }
 ],
 "metadata": {
  "datalore": {
   "base_environment": "default",
   "computation_mode": "REACTIVE",
   "package_manager": "pip",
   "packages": [],
   "report_row_ids": [],
   "version": 3
  },
  "kernelspec": {
   "display_name": "Python",
   "language": "python",
   "name": "python"
  }
 },
 "nbformat": 4,
 "nbformat_minor": 4
}
