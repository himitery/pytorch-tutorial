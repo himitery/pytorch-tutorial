{
 "cells": [
  {
   "cell_type": "code",
   "execution_count": 1,
   "metadata": {
    "datalore": {
     "hide_input_from_viewers": true,
     "hide_output_from_viewers": true,
     "node_id": "Il9N9zYXEbAjI7Fc8IryCG",
     "type": "CODE"
    }
   },
   "outputs": [
    {
     "name": "stdout",
     "output_type": "stream",
     "text": [
      "Requirement already satisfied: pip in /opt/python/envs/default/lib/python3.8/site-packages (23.1.2)\r\n",
      "Collecting pip\r\n",
      "  Downloading pip-23.2.1-py3-none-any.whl (2.1 MB)\r\n",
      "\u001b[?25l     \u001b[90m━━━━━━━━━━━━━━━━━━━━━━━━━━━━━━━━━━━━━━━━\u001b[0m \u001b[32m0.0/2.1 MB\u001b[0m \u001b[31m?\u001b[0m eta \u001b[36m-:--:--\u001b[0m\r\u001b[2K     \u001b[91m━━━━━━━━━━━━━━━━━━━━━━\u001b[0m\u001b[91m╸\u001b[0m\u001b[90m━━━━━━━━━━━━━━━━━\u001b[0m \u001b[32m1.2/2.1 MB\u001b[0m \u001b[31m35.4 MB/s\u001b[0m eta \u001b[36m0:00:01\u001b[0m\r\u001b[2K     \u001b[90m━━━━━━━━━━━━━━━━━━━━━━━━━━━━━━━━━━━━━━━━\u001b[0m \u001b[32m2.1/2.1 MB\u001b[0m \u001b[31m35.0 MB/s\u001b[0m eta \u001b[36m0:00:00\u001b[0m\r\n",
      "\u001b[?25hInstalling collected packages: pip\r\n",
      "  Attempting uninstall: pip\r\n",
      "    Found existing installation: pip 23.1.2\r\n",
      "    Uninstalling pip-23.1.2:\r\n",
      "      Successfully uninstalled pip-23.1.2\r\n",
      "Successfully installed pip-23.2.1\r\n",
      "Requirement already satisfied: numpy in /opt/python/envs/default/lib/python3.8/site-packages (1.24.3)\r\n",
      "Requirement already satisfied: pandas in /opt/python/envs/default/lib/python3.8/site-packages (1.5.3)\r\n",
      "Requirement already satisfied: python-dateutil>=2.8.1 in /opt/python/envs/default/lib/python3.8/site-packages (from pandas) (2.8.2)\r\n",
      "Requirement already satisfied: pytz>=2020.1 in /opt/python/envs/default/lib/python3.8/site-packages (from pandas) (2023.3)\r\n",
      "Requirement already satisfied: six>=1.5 in /opt/python/envs/default/lib/python3.8/site-packages (from python-dateutil>=2.8.1->pandas) (1.16.0)\r\n",
      "Requirement already satisfied: torch in /opt/python/envs/default/lib/python3.8/site-packages (2.0.1+cu117)\r\n",
      "Requirement already satisfied: torchvision in /opt/python/envs/default/lib/python3.8/site-packages (0.15.2+rocm5.4.2)\r\n",
      "Requirement already satisfied: filelock in /opt/python/envs/default/lib/python3.8/site-packages (from torch) (3.12.2)\r\n",
      "Requirement already satisfied: typing-extensions in /opt/python/envs/default/lib/python3.8/site-packages (from torch) (4.7.1)\r\n",
      "Requirement already satisfied: sympy in /opt/python/envs/default/lib/python3.8/site-packages (from torch) (1.12)\r\n",
      "Requirement already satisfied: networkx in /opt/python/envs/default/lib/python3.8/site-packages (from torch) (3.1)\r\n",
      "Requirement already satisfied: jinja2 in /opt/python/envs/default/lib/python3.8/site-packages (from torch) (3.1.2)\r\n",
      "Requirement already satisfied: triton==2.0.0 in /opt/python/envs/default/lib/python3.8/site-packages (from torch) (2.0.0)\r\n",
      "Requirement already satisfied: cmake in /opt/python/envs/default/lib/python3.8/site-packages (from triton==2.0.0->torch) (3.27.2)\r\n",
      "Requirement already satisfied: lit in /opt/python/envs/default/lib/python3.8/site-packages (from triton==2.0.0->torch) (16.0.6)\r\n",
      "Requirement already satisfied: numpy in /opt/python/envs/default/lib/python3.8/site-packages (from torchvision) (1.24.3)\r\n",
      "Requirement already satisfied: requests in /opt/python/envs/default/lib/python3.8/site-packages (from torchvision) (2.30.0)\r\n",
      "Requirement already satisfied: pillow!=8.3.*,>=5.3.0 in /opt/python/envs/default/lib/python3.8/site-packages (from torchvision) (10.0.0)\r\n",
      "Requirement already satisfied: MarkupSafe>=2.0 in /opt/python/envs/default/lib/python3.8/site-packages (from jinja2->torch) (2.1.3)\r\n",
      "Requirement already satisfied: charset-normalizer<4,>=2 in /opt/python/envs/default/lib/python3.8/site-packages (from requests->torchvision) (3.2.0)\r\n",
      "Requirement already satisfied: idna<4,>=2.5 in /opt/python/envs/default/lib/python3.8/site-packages (from requests->torchvision) (3.4)\r\n",
      "Requirement already satisfied: urllib3<3,>=1.21.1 in /opt/python/envs/default/lib/python3.8/site-packages (from requests->torchvision) (1.26.16)\r\n",
      "Requirement already satisfied: certifi>=2017.4.17 in /opt/python/envs/default/lib/python3.8/site-packages (from requests->torchvision) (2023.7.22)\r\n",
      "Requirement already satisfied: mpmath>=0.19 in /opt/python/envs/default/lib/python3.8/site-packages (from sympy->torch) (1.3.0)\r\n"
     ]
    }
   ],
   "source": [
    "%pip install --upgrade pip\n",
    "%pip install numpy pandas\n",
    "%pip install torch torchvision"
   ]
  },
  {
   "attachments": {},
   "cell_type": "markdown",
   "metadata": {
    "datalore": {
     "hide_input_from_viewers": true,
     "hide_output_from_viewers": true,
     "node_id": "nQkv9KpfkjZ34pAdlbbhKd",
     "type": "MD"
    }
   },
   "source": [
    "# 신경망 (Neural Networks)\n",
    "\n",
    "신경망은 `torch.nn` 패키지를 사용하여 생성할 수 있다.\n",
    "\n",
    "`nn`은 모델을 정의하고 미분하는데 `autograd`를 사용하며, `nn.Module`은 'layer'와 `ouput`을 반환하는 'forward(input)' 메서드를 포함한다.\n",
    "\n",
    "### 신경망의 일반적인 학습 과정\n",
    "\n",
    "- 학습 가능한 매개변수(또는 가중치(weight))를 갖는 신경망을 정의한다.\n",
    "- 데이터셋(dataset) 입력을 반복한다.\n",
    "- 입력을 신경망에서 전파(process)한다.\n",
    "- 손실(loss)을 계산한다.\n",
    "- 변화도(gradient)를 신경망의 매개변수들에 역으로 전파한다.\n",
    "- 신경망의 가중치를 갱신한다.\n",
    "    - `weight = weight - learning_rate * gradient`\n",
    "\n",
    "### 요약\n",
    "\n",
    "- `torch.Tensor`\n",
    "    - `backward()` 같은 autograd 연산을 지원하는 다차원 배열이다.\n",
    "    - tensor에 대한 변화도를 갖는다.\n",
    "- `nn.Module`\n",
    "    - 신경망 모듈이다.\n",
    "    - 매개변수를 캡슐화(encapsulation)하는 간편한 방법으로, GPU 이동, 내보내기(exporting), 불러오기(loading) 등의 작업을 위한 헬퍼(helper)를 제공한다.\n",
    "- `nn.Parameter`\n",
    "    - Tensor의 한 종류로, `Module`에 속성으로 할당될 때 자동으로 매개변수로 등록된다.\n",
    "- `autograd.Function`\n",
    "    - autograd 연산의 순방향과 역방향 정의를 구현한다.\n",
    "    - 모든 Tensor 연산은 하나 이상의 Function 노드를 생성하며, 각 노드는 Tensor를 생성하고 이력(history)을 인코딩하는 함수들과 연결하고 있다."
   ]
  },
  {
   "cell_type": "code",
   "execution_count": 4,
   "metadata": {
    "datalore": {
     "hide_input_from_viewers": true,
     "hide_output_from_viewers": true,
     "node_id": "5rt0msKxyirPSawrwNoPXG",
     "type": "CODE"
    }
   },
   "outputs": [],
   "source": [
    "import torch\n",
    "import torch.nn as nn\n",
    "import torch.nn.functional as F"
   ]
  },
  {
   "attachments": {},
   "cell_type": "markdown",
   "metadata": {
    "datalore": {
     "hide_input_from_viewers": true,
     "hide_output_from_viewers": true,
     "node_id": "XMWIbp4NGMTe3pwOWHj986",
     "type": "MD"
    }
   },
   "source": [
    "### 신경망 정의하기\n",
    "\n",
    "`forward` 함수만 정의하고 나면, `backward` 함수는 `autograd`를 사용하여 자동으로 정의된다. `forward` 함수에서는 어떠한 Tensor 연산을 사용해도 된다."
   ]
  },
  {
   "cell_type": "code",
   "execution_count": 5,
   "metadata": {
    "datalore": {
     "hide_input_from_viewers": true,
     "hide_output_from_viewers": true,
     "node_id": "TgJMPldnKu8l0393hfFRXm",
     "type": "CODE"
    }
   },
   "outputs": [
    {
     "name": "stdout",
     "output_type": "stream",
     "text": [
      "Net(\n",
      "  (conv1): Conv2d(1, 6, kernel_size=(5, 5), stride=(1, 1))\n",
      "  (conv2): Conv2d(6, 16, kernel_size=(5, 5), stride=(1, 1))\n",
      "  (fc1): Linear(in_features=400, out_features=120, bias=True)\n",
      "  (fc2): Linear(in_features=120, out_features=84, bias=True)\n",
      "  (fc3): Linear(in_features=84, out_features=10, bias=True)\n",
      ")\n"
     ]
    }
   ],
   "source": [
    "class Net(nn.Module):\n",
    "    def __init__(self):\n",
    "        super(Net, self).__init__()\n",
    "\n",
    "        self.conv1 = nn.Conv2d(1, 6, 5)\n",
    "        self.conv2 = nn.Conv2d(6, 16, 5)\n",
    "###\n",
    "        self.fc1 = nn.Linear(16 * 5 * 5, 120)\n",
    "        self.fc2 = nn.Linear(120, 84)\n",
    "        self.fc3 = nn.Linear(84, 10)\n",
    "\n",
    "    def forward(self, x):\n",
    "        x = F.max_pool2d(F.relu(self.conv1(x)), (2, 2))\n",
    "        x = F.max_pool2d(F.relu(self.conv2(x)), 2)\n",
    "        x = torch.flatten(x, 1)\n",
    "        x = F.relu(self.fc1(x))\n",
    "        x = F.relu(self.fc2(x))\n",
    "        x = self.fc3(x)\n",
    "\n",
    "        return x\n",
    "    \n",
    "net = Net()\n",
    "print(net)"
   ]
  },
  {
   "attachments": {},
   "cell_type": "markdown",
   "metadata": {
    "datalore": {
     "hide_input_from_viewers": true,
     "hide_output_from_viewers": true,
     "node_id": "VaO5q7FlzEl0YwVk8zJoif",
     "type": "MD"
    }
   },
   "source": [
    "모델의 학습 가능한 매개변수들은 `net.parameters()`에 의해 반환된다."
   ]
  },
  {
   "cell_type": "code",
   "execution_count": 6,
   "metadata": {
    "datalore": {
     "hide_input_from_viewers": true,
     "hide_output_from_viewers": true,
     "node_id": "TpBtMQqWhNA9dZMVinxtWl",
     "type": "CODE"
    }
   },
   "outputs": [
    {
     "name": "stdout",
     "output_type": "stream",
     "text": [
      "10\n",
      "torch.Size([6, 1, 5, 5])\n"
     ]
    }
   ],
   "source": [
    "params = list(net.parameters())\n",
    "print(len(params))\n",
    "print(params[0].size())"
   ]
  },
  {
   "cell_type": "code",
   "execution_count": 7,
   "metadata": {
    "datalore": {
     "hide_input_from_viewers": true,
     "hide_output_from_viewers": true,
     "node_id": "ncw76fLC8LE2KOefY9eO5Y",
     "type": "CODE"
    }
   },
   "outputs": [
    {
     "name": "stdout",
     "output_type": "stream",
     "text": [
      "tensor([[-0.0814, -0.0515,  0.1066,  0.1615,  0.0440,  0.0045,  0.1596,  0.1507,\n",
      "         -0.0811,  0.0235]], grad_fn=<AddmmBackward0>)\n"
     ]
    }
   ],
   "source": [
    "out = net(torch.randn(1, 1, 32, 32))\n",
    "print(out)"
   ]
  },
  {
   "attachments": {},
   "cell_type": "markdown",
   "metadata": {
    "datalore": {
     "hide_input_from_viewers": true,
     "hide_output_from_viewers": true,
     "node_id": "jKbAYBuGjBPr2UzstKnE0A",
     "type": "MD"
    }
   },
   "source": [
    "모든 매개변수의 변화도 버퍼(gradient buffer)를 0으로 설정하고, 무작위 값으로 역전파 한다."
   ]
  },
  {
   "cell_type": "code",
   "execution_count": 8,
   "metadata": {
    "datalore": {
     "hide_input_from_viewers": true,
     "hide_output_from_viewers": true,
     "node_id": "r2PMy6F4xqFMR5NzQAJbJS",
     "type": "CODE"
    }
   },
   "outputs": [],
   "source": [
    "net.zero_grad()\n",
    "out.backward(torch.randn(1, 10))"
   ]
  },
  {
   "attachments": {},
   "cell_type": "markdown",
   "metadata": {
    "datalore": {
     "hide_input_from_viewers": true,
     "hide_output_from_viewers": true,
     "node_id": "hAFfxwwHYvbv5YoaGFP2Kp",
     "type": "MD"
    }
   },
   "source": [
    "## 손실 함수(Loss Function)\n",
    "\n",
    "손실 함수는 (output, target)을 한 쌍의 입력으로 받아, 출력이 정답으로부터 얼마나 멀리 떨어져 있는지 추정하는 값을 계산한다.\n",
    "\n",
    "`nn` 패키지에는 여러가지 손실 함수들이 존재한다.\n",
    "간단한 손실 함수로는 출려과 대상간의 평균제곱오차(MSE, mean squared error)를 계산하는 `nn.MSEloss`가 있다."
   ]
  },
  {
   "cell_type": "code",
   "execution_count": 10,
   "metadata": {
    "datalore": {
     "hide_input_from_viewers": true,
     "hide_output_from_viewers": true,
     "node_id": "1MC1lCGfvK0nYI0iQUPwvL",
     "type": "CODE"
    }
   },
   "outputs": [
    {
     "name": "stdout",
     "output_type": "stream",
     "text": [
      "tensor(0.8203, grad_fn=<MseLossBackward0>)\n"
     ]
    }
   ],
   "source": [
    "output = net(torch.randn(1, 1, 32, 32))\n",
    "target = torch.randn(10)\n",
    "target = target.view(1, -1)\n",
    "criterion = nn.MSELoss()\n",
    "\n",
    "loss = criterion(output, target)\n",
    "print(loss)"
   ]
  },
  {
   "attachments": {},
   "cell_type": "markdown",
   "metadata": {
    "datalore": {
     "hide_input_from_viewers": true,
     "hide_output_from_viewers": true,
     "node_id": "p4WFJtg7tDtzzEB7zUBCtg",
     "type": "MD"
    }
   },
   "source": [
    "`loss.backward()`를 실행할 때, 전체 그래프는 신경망의 매개변수에 대해 미분되며, 그래프 내의 `required_grad=True`인 모든 Tensor는 변화도가 누적된 `.grad` Tensor를 갖게 된다."
   ]
  },
  {
   "cell_type": "code",
   "execution_count": 11,
   "metadata": {
    "datalore": {
     "hide_input_from_viewers": true,
     "hide_output_from_viewers": true,
     "node_id": "LOsA2kQmRZhxK3mAEx4Wae",
     "type": "CODE"
    }
   },
   "outputs": [
    {
     "name": "stdout",
     "output_type": "stream",
     "text": [
      "<MseLossBackward0 object at 0x7f1f58740160>\n",
      "<AddmmBackward0 object at 0x7f1f587402e0>\n",
      "<AccumulateGrad object at 0x7f1f58740160>\n"
     ]
    }
   ],
   "source": [
    "print(loss.grad_fn)\n",
    "print(loss.grad_fn.next_functions[0][0])\n",
    "print(loss.grad_fn.next_functions[0][0].next_functions[0][0])"
   ]
  },
  {
   "attachments": {},
   "cell_type": "markdown",
   "metadata": {
    "datalore": {
     "hide_input_from_viewers": true,
     "hide_output_from_viewers": true,
     "node_id": "EFzo7ypbYeFwv3iR7km5IF",
     "type": "MD"
    }
   },
   "source": [
    "## 역전파 (Backprop)\n",
    "\n",
    "오차를 역전파하기 위해서는 `loss.backward()` 해주면 된다.\n",
    "기존에 계산된 변화도의 값을 누적시키고 싶지 않다면 기존에 계산된 변화도를 0으로 만다는 작업이 필요하다."
   ]
  },
  {
   "cell_type": "code",
   "execution_count": 12,
   "metadata": {
    "datalore": {
     "hide_input_from_viewers": true,
     "hide_output_from_viewers": true,
     "node_id": "7QTvELV6UgLiUIUA1m4Lp6",
     "type": "CODE"
    }
   },
   "outputs": [
    {
     "name": "stdout",
     "output_type": "stream",
     "text": [
      "conv1.bias.grad before backward:\n",
      "None\n",
      "\n",
      "conv1.bias.grad after backward:\n",
      "tensor([ 0.0182,  0.0032, -0.0100, -0.0002,  0.0162,  0.0240])\n"
     ]
    }
   ],
   "source": [
    "net.zero_grad()\n",
    "\n",
    "print(\"conv1.bias.grad before backward:\")\n",
    "print(net.conv1.bias.grad)\n",
    "print()\n",
    "\n",
    "loss.backward()\n",
    "\n",
    "print(\"conv1.bias.grad after backward:\")\n",
    "print(net.conv1.bias.grad)"
   ]
  },
  {
   "attachments": {},
   "cell_type": "markdown",
   "metadata": {
    "datalore": {
     "hide_input_from_viewers": true,
     "hide_output_from_viewers": true,
     "node_id": "ndyzOgE9AjrXDcf8k66vdb",
     "type": "MD"
    }
   },
   "source": [
    "## 가중치 갱신\n",
    "\n",
    "실제로 많이 사용되는 가장 단순한 갱신 규칙은 확률적 경사하강법(SGD, Stochastic Gradient Descent)이다.\n",
    "\n",
    "```python\n",
    "weight = weight - learning_rate * gradient\n",
    "```"
   ]
  },
  {
   "cell_type": "code",
   "execution_count": 13,
   "metadata": {
    "datalore": {
     "hide_input_from_viewers": true,
     "hide_output_from_viewers": true,
     "node_id": "UoQBBQXeRWP4KP6mnUCnl1",
     "type": "CODE"
    }
   },
   "outputs": [],
   "source": [
    "learning_rate = 1e-2\n",
    "for f in net.parameters():\n",
    "    f.data.sub_(f.grad.data * learning_rate)"
   ]
  },
  {
   "attachments": {},
   "cell_type": "markdown",
   "metadata": {
    "datalore": {
     "hide_input_from_viewers": true,
     "hide_output_from_viewers": true,
     "node_id": "pY84VVpV39ewW3CYr3LqlG",
     "type": "MD"
    }
   },
   "source": [
    "신경망을 구성할 때 SGD, Nesterov-SGD, Adam, RMSProp 등과 같은 다양한 갱신 규칙을 사용하고 싶다면,\n",
    "`torch.optim`라는 패키지를 사용하면 된다."
   ]
  },
  {
   "cell_type": "code",
   "execution_count": 14,
   "metadata": {
    "datalore": {
     "hide_input_from_viewers": true,
     "hide_output_from_viewers": true,
     "node_id": "bPIs5eF1HUYV3b0b63sZHj",
     "type": "CODE"
    }
   },
   "outputs": [],
   "source": [
    "import torch.optim as optim\n",
    "\n",
    "optimizer = optim.SGD(net.parameters(), lr=0.01)\n",
    "\n",
    "optimizer.zero_grad()\n",
    "output = net(torch.randn(1, 1, 32, 32))\n",
    "loss = criterion(output, target)\n",
    "loss.backward()\n",
    "optimizer.step()"
   ]
  }
 ],
 "metadata": {
  "datalore": {
   "base_environment": "default",
   "computation_mode": "REACTIVE",
   "package_manager": "pip",
   "packages": [],
   "report_row_ids": [],
   "version": 3
  },
  "kernelspec": {
   "display_name": "Python",
   "language": "python",
   "name": "python"
  }
 },
 "nbformat": 4,
 "nbformat_minor": 4
}
